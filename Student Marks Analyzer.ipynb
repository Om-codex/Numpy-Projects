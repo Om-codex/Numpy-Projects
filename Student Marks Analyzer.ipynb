{
 "cells": [
  {
   "cell_type": "markdown",
   "id": "9e04d5f5-1d8e-4ea5-8641-9f437ca8d8d7",
   "metadata": {},
   "source": [
    "✅ Step 1: Generate the Marks Data\n",
    "We will create a 5x4 NumPy array → 5 students × 4 subjects"
   ]
  },
  {
   "cell_type": "code",
   "execution_count": 2,
   "id": "6214def4-a074-4e29-b0c7-e57d167b9081",
   "metadata": {},
   "outputs": [
    {
     "name": "stdout",
     "output_type": "stream",
     "text": [
      "Marks of Students:\n",
      " [[84 87 93 40]\n",
      " [43 99 43 79]\n",
      " [49 59 61 90]\n",
      " [76 63 46 64]\n",
      " [64 52 98 41]]\n"
     ]
    }
   ],
   "source": [
    "import numpy as np\n",
    "np.random.seed(0) # makes the fixed random values for every time and each random value changes on change of seed value \n",
    "marks = np.random.randint(40,100, size = (5,4)) #creates random values between 40 and 100\n",
    "print('Marks of Students:\\n',marks)"
   ]
  },
  {
   "cell_type": "markdown",
   "id": "8d8754fe-f8bb-4ba0-9fb8-0f75b1de6927",
   "metadata": {},
   "source": [
    "✅ Step 2: Average marks of each students"
   ]
  },
  {
   "cell_type": "code",
   "execution_count": 29,
   "id": "f735684e-96e9-4687-aa88-3c5d5d0d45bd",
   "metadata": {},
   "outputs": [
    {
     "name": "stdout",
     "output_type": "stream",
     "text": [
      "Average Marks:\n",
      " [76.   66.   64.75 62.25 63.75]\n"
     ]
    }
   ],
   "source": [
    "student_avg = np.mean(marks,axis = 1) #row - wise average\n",
    "print('Average Marks:\\n',student_avg)"
   ]
  },
  {
   "cell_type": "code",
   "execution_count": 24,
   "id": "7f9590bb-9186-4c76-a6de-1dd9d2e7c685",
   "metadata": {},
   "outputs": [
    {
     "name": "stdout",
     "output_type": "stream",
     "text": [
      "Topper Indices per subject:\n",
      " [1 2 5 3]\n"
     ]
    }
   ],
   "source": [
    "# Get topper student indices for each subject\n",
    "topper_indices = np.argmax(marks , axis = 0)\n",
    "print('Topper Indices per subject:\\n',topper_indices+1)"
   ]
  },
  {
   "cell_type": "markdown",
   "id": "94faf965-cabc-4231-be35-74265ea99efe",
   "metadata": {},
   "source": [
    "✅ Step 3: Get the maximum marks from the array using fancy indexing"
   ]
  },
  {
   "cell_type": "code",
   "execution_count": 30,
   "id": "5cee1771-1c52-48a1-bb51-28ed1c825234",
   "metadata": {},
   "outputs": [
    {
     "name": "stdout",
     "output_type": "stream",
     "text": [
      "Topper marks in each subject:\n",
      " [84 99 98 90]\n"
     ]
    }
   ],
   "source": [
    "toppers = marks[topper_indices, np.arange(marks.shape[1])]\n",
    "print('Topper marks in each subject:\\n',toppers)"
   ]
  },
  {
   "cell_type": "markdown",
   "id": "71494454-04c7-4b7d-b9cb-5bc3d20752fd",
   "metadata": {},
   "source": [
    "✅ Step 4: Find Students Who Scored Above 80 in All Subjects"
   ]
  },
  {
   "cell_type": "code",
   "execution_count": 38,
   "id": "1dad4fe8-75ef-4d3a-bd38-fe1665a2af33",
   "metadata": {},
   "outputs": [
    {
     "name": "stdout",
     "output_type": "stream",
     "text": [
      "[False False False False False]\n",
      "[]\n"
     ]
    }
   ],
   "source": [
    "#check which student has scored above 80 in all subjects\n",
    "above_80_all = np.all(marks>80, axis = 1) #boolean mask for every student \n",
    "print(above_80_all)\n",
    "high_achievers = marks[above_80_all] \n",
    "print(high_achievers)"
   ]
  },
  {
   "cell_type": "markdown",
   "id": "03d5cdb5-473b-4bf6-8806-6a00ef45b2ba",
   "metadata": {},
   "source": [
    "✅ Step 5: Reshaping the Data for New Views\n",
    "🎯 Goal:\n",
    "Change how the data is represented — like flattening it into a row or column — which is super useful in:\n",
    "\n",
    "🧠 Machine learning input preparation\n",
    "\n",
    "📊 Visualization tools\n",
    "\n",
    "🔁 Matrix operations"
   ]
  },
  {
   "cell_type": "code",
   "execution_count": null,
   "id": "86e4b8e1-8684-40d4-80fe-4e8bcaceaae9",
   "metadata": {},
   "outputs": [],
   "source": []
  },
  {
   "cell_type": "markdown",
   "id": "afa173c2-195f-4898-bab4-611ba41a406b",
   "metadata": {},
   "source": [
    "🔄 Reshape to a Single Row (1 × 20)"
   ]
  },
  {
   "cell_type": "code",
   "execution_count": 42,
   "id": "babc3d0b-ab16-4141-872e-157c70747215",
   "metadata": {},
   "outputs": [
    {
     "name": "stdout",
     "output_type": "stream",
     "text": [
      "Reshaped as 1 row:\n",
      " [[84 87 93 40 43 99 43 79 49 59 61 90 76 63 46 64 64 52 98 41]]\n",
      "Shape: (1, 20)\n"
     ]
    }
   ],
   "source": [
    "row_view = marks.reshape(1, -1)\n",
    "print(\"Reshaped as 1 row:\\n\", row_view)\n",
    "print(\"Shape:\", row_view.shape)"
   ]
  },
  {
   "cell_type": "markdown",
   "id": "81a42dfc-12a3-4426-967e-b6c0d74cc7f7",
   "metadata": {},
   "source": [
    "⬇️ Reshape to a Column Vector (20 × 1)"
   ]
  },
  {
   "cell_type": "code",
   "execution_count": 43,
   "id": "18c4f06e-7c86-4799-adde-31da37cb867a",
   "metadata": {},
   "outputs": [
    {
     "name": "stdout",
     "output_type": "stream",
     "text": [
      "Reshaped as column vector:\n",
      " [[84]\n",
      " [87]\n",
      " [93]\n",
      " [40]\n",
      " [43]\n",
      " [99]\n",
      " [43]\n",
      " [79]\n",
      " [49]\n",
      " [59]\n",
      " [61]\n",
      " [90]\n",
      " [76]\n",
      " [63]\n",
      " [46]\n",
      " [64]\n",
      " [64]\n",
      " [52]\n",
      " [98]\n",
      " [41]]\n",
      "Shape: (20, 1)\n"
     ]
    }
   ],
   "source": [
    "col_view = marks.reshape(-1, 1)\n",
    "print(\"Reshaped as column vector:\\n\", col_view)\n",
    "print(\"Shape:\", col_view.shape)"
   ]
  },
  {
   "cell_type": "markdown",
   "id": "1c9d4174-cff4-4c84-9932-2d0227a0ac4a",
   "metadata": {},
   "source": [
    "🔄 Flatten the Matrix"
   ]
  },
  {
   "cell_type": "code",
   "execution_count": 41,
   "id": "60ef2573-5938-4421-8f61-e5ac3ece0ccf",
   "metadata": {},
   "outputs": [
    {
     "name": "stdout",
     "output_type": "stream",
     "text": [
      "Flattened Array:\n",
      " [84 87 93 40 43 99 43 79 49 59 61 90 76 63 46 64 64 52 98 41]\n",
      "Shape: (20,)\n"
     ]
    }
   ],
   "source": [
    "flat = marks.flatten()\n",
    "print(\"Flattened Array:\\n\", flat)\n",
    "print(\"Shape:\", flat.shape)"
   ]
  },
  {
   "cell_type": "code",
   "execution_count": null,
   "id": "ff80294a-0b52-474d-9840-78b2a325360c",
   "metadata": {},
   "outputs": [],
   "source": []
  }
 ],
 "metadata": {
  "kernelspec": {
   "display_name": "Python 3 (ipykernel)",
   "language": "python",
   "name": "python3"
  },
  "language_info": {
   "codemirror_mode": {
    "name": "ipython",
    "version": 3
   },
   "file_extension": ".py",
   "mimetype": "text/x-python",
   "name": "python",
   "nbconvert_exporter": "python",
   "pygments_lexer": "ipython3",
   "version": "3.13.0"
  }
 },
 "nbformat": 4,
 "nbformat_minor": 5
}
