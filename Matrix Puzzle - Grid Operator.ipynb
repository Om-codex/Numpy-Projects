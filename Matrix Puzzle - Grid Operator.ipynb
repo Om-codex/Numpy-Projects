{
 "cells": [
  {
   "cell_type": "markdown",
   "id": "435d8759-7bf1-41ad-9a00-84c5434105a6",
   "metadata": {},
   "source": [
    "# 🧩 Project 3: Matrix Puzzle — Grid Operator"
   ]
  },
  {
   "cell_type": "code",
   "execution_count": 2,
   "id": "0777cf40-cdc0-47b1-b481-6ebf114b1929",
   "metadata": {},
   "outputs": [
    {
     "name": "stdout",
     "output_type": "stream",
     "text": [
      "Initial Grid:\n",
      " [[ 1  2  3  4  5]\n",
      " [ 6  7  8  9 10]\n",
      " [11 12 13 14 15]\n",
      " [16 17 18 19 20]\n",
      " [21 22 23 24 25]]\n"
     ]
    }
   ],
   "source": [
    "import numpy as np\n",
    "grid = np.arange(1, 26).reshape(5,5)\n",
    "print('Initial Grid:\\n',grid)"
   ]
  },
  {
   "cell_type": "markdown",
   "id": "07b6a041-d8a9-4903-8544-412fc95609e5",
   "metadata": {},
   "source": [
    "## Extract the center 3×3 block"
   ]
  },
  {
   "cell_type": "code",
   "execution_count": 3,
   "id": "3a689d2a-3fe2-4395-a990-e5bc8fd41a16",
   "metadata": {},
   "outputs": [
    {
     "name": "stdout",
     "output_type": "stream",
     "text": [
      "[[ 7  8  9]\n",
      " [12 13 14]\n",
      " [17 18 19]]\n"
     ]
    }
   ],
   "source": [
    "block_3x3 = grid[1:4 , 1:4]\n",
    "print(block_3x3)"
   ]
  },
  {
   "cell_type": "markdown",
   "id": "21bb54b2-abd1-41cb-83f0-32bf6482e032",
   "metadata": {},
   "source": [
    "## Extract the center 2×2 block"
   ]
  },
  {
   "cell_type": "code",
   "execution_count": 4,
   "id": "650cdedd-5f6f-4fea-b274-305ec13626bf",
   "metadata": {},
   "outputs": [
    {
     "name": "stdout",
     "output_type": "stream",
     "text": [
      "[[ 7  8]\n",
      " [12 13]]\n"
     ]
    }
   ],
   "source": [
    "block_2x2 = grid[1:3 , 1:3]\n",
    "print(block_2x2)"
   ]
  },
  {
   "cell_type": "markdown",
   "id": "cc13aa02-525e-4ec9-8a19-9217152122b4",
   "metadata": {},
   "source": [
    "## Extract all corner elements only"
   ]
  },
  {
   "cell_type": "code",
   "execution_count": 11,
   "id": "f11c9a9b-f577-42c0-8c2d-1b7b3058ddd9",
   "metadata": {},
   "outputs": [
    {
     "name": "stdout",
     "output_type": "stream",
     "text": [
      "[ 1  5 21 25]\n"
     ]
    }
   ],
   "source": [
    "corner = grid[[0,0,4,4],[0,4,0,4]] #[rows index] [column index]\n",
    "print(corner)"
   ]
  },
  {
   "cell_type": "markdown",
   "id": "e5f46907-14ef-4e8c-811d-96027231b6d0",
   "metadata": {},
   "source": [
    "## Extract both diagonals (main + anti-diagonal)"
   ]
  },
  {
   "cell_type": "code",
   "execution_count": 13,
   "id": "60760ada-a4e3-4581-88a6-da2eea8465c4",
   "metadata": {},
   "outputs": [
    {
     "name": "stdout",
     "output_type": "stream",
     "text": [
      "[ 1  7 13 19 25]\n"
     ]
    }
   ],
   "source": [
    "main_diagonal = grid[[0,1,2,3,4],[0,1,2,3,4]]\n",
    "print(main_diagonal)"
   ]
  },
  {
   "cell_type": "code",
   "execution_count": 15,
   "id": "4fdd271a-a045-4b92-915e-9c891df6c75a",
   "metadata": {},
   "outputs": [
    {
     "name": "stdout",
     "output_type": "stream",
     "text": [
      "[ 5  9 13 17 21]\n"
     ]
    }
   ],
   "source": [
    "anti_diagonal = grid[[0,1,2,3,4],[4,3,2,1,0]]\n",
    "print(anti_diagonal)"
   ]
  },
  {
   "cell_type": "markdown",
   "id": "f28207ee-befd-4700-8c97-f08a5908fce2",
   "metadata": {},
   "source": [
    "## Extract the outer border (excluding center elements)"
   ]
  },
  {
   "cell_type": "code",
   "execution_count": 40,
   "id": "0a458b9c-a762-419e-964e-bd324a476b07",
   "metadata": {},
   "outputs": [
    {
     "name": "stdout",
     "output_type": "stream",
     "text": [
      "[[ 1  2  3  4  5]\n",
      " [ 6  7  8  9 10]\n",
      " [11 12 13 14 15]\n",
      " [16 17 18 19 20]\n",
      " [21 22 23 24 25]]\n",
      "[ 1  2  3  4  5 10 15 20 25 24 23 22 21 16 11  6]\n"
     ]
    }
   ],
   "source": [
    "print(grid)\n",
    "border = np.concatenate((\n",
    "    grid[0, :],           # top row\n",
    "    grid[1:4, 4],         # right column (excluding top & bottom)\n",
    "    grid[4, ::-1],        # bottom row reversed\n",
    "    grid[3:0:-1, 0]       # left column upward (excluding top & bottom)\n",
    "))\n",
    "print(border)"
   ]
  },
  {
   "cell_type": "markdown",
   "id": "8f7d5a38-8869-4c42-b9e8-8b28f72c4d78",
   "metadata": {},
   "source": [
    "## 🔹 Task 1: Flip the Matrix Horizontally (Left ↔ Right)"
   ]
  },
  {
   "cell_type": "code",
   "execution_count": 41,
   "id": "654e4c3c-7783-48e5-8ee0-0685308c0955",
   "metadata": {},
   "outputs": [
    {
     "name": "stdout",
     "output_type": "stream",
     "text": [
      "Horizontally Flipped:\n",
      " [[ 5  4  3  2  1]\n",
      " [10  9  8  7  6]\n",
      " [15 14 13 12 11]\n",
      " [20 19 18 17 16]\n",
      " [25 24 23 22 21]]\n"
     ]
    }
   ],
   "source": [
    "flipped_lr = np.fliplr(grid)\n",
    "print('Horizontally Flipped:\\n',flipped_lr)"
   ]
  },
  {
   "cell_type": "markdown",
   "id": "8095e0a6-e581-4602-8693-d42f91eb3767",
   "metadata": {},
   "source": [
    "## 🔹 Task 2: Flip the Matrix Vertically (Top ↕ Bottom)"
   ]
  },
  {
   "cell_type": "code",
   "execution_count": 42,
   "id": "e27862d9-dc35-4128-bc8e-08550a82424c",
   "metadata": {},
   "outputs": [
    {
     "name": "stdout",
     "output_type": "stream",
     "text": [
      "[[21 22 23 24 25]\n",
      " [16 17 18 19 20]\n",
      " [11 12 13 14 15]\n",
      " [ 6  7  8  9 10]\n",
      " [ 1  2  3  4  5]]\n"
     ]
    }
   ],
   "source": [
    "flipped_ud = np.flipud(grid)\n",
    "print(flipped_ud)"
   ]
  },
  {
   "cell_type": "markdown",
   "id": "abe257e7-381c-4890-8250-92011581ce7a",
   "metadata": {},
   "source": [
    "## 🔹 Task 3: Rotate the Matrix 180°"
   ]
  },
  {
   "cell_type": "markdown",
   "id": "f2582fd2-92ce-435d-8b1e-5dcdb9edb527",
   "metadata": {},
   "source": [
    "## Method 1: Use np.rot90(grid, 2)"
   ]
  },
  {
   "cell_type": "code",
   "execution_count": 43,
   "id": "3c04ac81-4eec-4747-8c8d-0bc7459af1c4",
   "metadata": {},
   "outputs": [
    {
     "name": "stdout",
     "output_type": "stream",
     "text": [
      "[[ 5 10 15 20 25]\n",
      " [ 4  9 14 19 24]\n",
      " [ 3  8 13 18 23]\n",
      " [ 2  7 12 17 22]\n",
      " [ 1  6 11 16 21]]\n"
     ]
    }
   ],
   "source": [
    "rotated = np.rot90(grid)\n",
    "print(rotated)"
   ]
  },
  {
   "cell_type": "markdown",
   "id": "1f7f590c-4c27-4771-848f-c68df82cfb2b",
   "metadata": {},
   "source": [
    "## Method 2 (Manual flip both ways):"
   ]
  },
  {
   "cell_type": "code",
   "execution_count": 44,
   "id": "9c910a19-f293-47f3-b29a-bd8ab11b59ba",
   "metadata": {},
   "outputs": [
    {
     "name": "stdout",
     "output_type": "stream",
     "text": [
      "[[25 24 23 22 21]\n",
      " [20 19 18 17 16]\n",
      " [15 14 13 12 11]\n",
      " [10  9  8  7  6]\n",
      " [ 5  4  3  2  1]]\n"
     ]
    }
   ],
   "source": [
    "rotated_manual = np.flipud(np.fliplr(grid))\n",
    "print(rotated_manual)"
   ]
  },
  {
   "cell_type": "markdown",
   "id": "e60e71e5-923a-431d-ac8f-ee95838a79b9",
   "metadata": {},
   "source": [
    "## Replace all even numbers in the grid with 0"
   ]
  },
  {
   "cell_type": "code",
   "execution_count": 45,
   "id": "1f1f5ee9-1cb9-4cf9-93d9-88b99de6d14c",
   "metadata": {},
   "outputs": [
    {
     "name": "stdout",
     "output_type": "stream",
     "text": [
      "[[ 1  0  3  0  5]\n",
      " [ 0  7  0  9  0]\n",
      " [11  0 13  0 15]\n",
      " [ 0 17  0 19  0]\n",
      " [21  0 23  0 25]]\n"
     ]
    }
   ],
   "source": [
    "grid_even = grid % 2 == 0\n",
    "grid[grid_even] = 0\n",
    "print(grid)"
   ]
  },
  {
   "cell_type": "markdown",
   "id": "ff2af24a-a5d2-4cd5-b0d9-2eff160d5e5c",
   "metadata": {},
   "source": [
    "## Replace all odd numbers with 1"
   ]
  },
  {
   "cell_type": "code",
   "execution_count": 48,
   "id": "529556bf-698c-4f05-8f3d-449a33b3f9f2",
   "metadata": {},
   "outputs": [
    {
     "name": "stdout",
     "output_type": "stream",
     "text": [
      "[[1 0 1 0 1]\n",
      " [0 1 0 1 0]\n",
      " [1 0 1 0 1]\n",
      " [0 1 0 1 0]\n",
      " [1 0 1 0 1]]\n"
     ]
    }
   ],
   "source": [
    "grid_odd = grid % 2 !=0\n",
    "grid[(grid_odd)] = 1\n",
    "print(grid)"
   ]
  },
  {
   "cell_type": "code",
   "execution_count": 49,
   "id": "58df6c4a-72a4-45f6-b725-711a8a5b6f57",
   "metadata": {},
   "outputs": [
    {
     "name": "stdout",
     "output_type": "stream",
     "text": [
      "Initial Grid:\n",
      " [[ 1  2  3  4  5]\n",
      " [ 6  7  8  9 10]\n",
      " [11 12 13 14 15]\n",
      " [16 17 18 19 20]\n",
      " [21 22 23 24 25]]\n"
     ]
    }
   ],
   "source": [
    "grid = np.arange(1, 26).reshape(5,5)\n",
    "print('Initial Grid:\\n',grid)"
   ]
  },
  {
   "cell_type": "markdown",
   "id": "d52dcbe8-5bf2-4cf4-a0aa-9e0ef59eead3",
   "metadata": {},
   "source": [
    "## Create a mask of values greater than 10"
   ]
  },
  {
   "cell_type": "code",
   "execution_count": 50,
   "id": "1ecad9f9-f7ce-4fd0-aa85-a0a6c3c471d3",
   "metadata": {},
   "outputs": [
    {
     "name": "stdout",
     "output_type": "stream",
     "text": [
      "[11 12 13 14 15 16 17 18 19 20 21 22 23 24 25]\n"
     ]
    }
   ],
   "source": [
    "mask = grid[grid >10]\n",
    "print(mask)"
   ]
  },
  {
   "cell_type": "markdown",
   "id": "091a584e-a1df-4c57-8275-1885afe3350c",
   "metadata": {},
   "source": [
    "## Replace all numbers greater than 15 with -1"
   ]
  },
  {
   "cell_type": "code",
   "execution_count": 52,
   "id": "ef0c13b3-15f2-4a1f-8966-994aecdfc575",
   "metadata": {},
   "outputs": [
    {
     "name": "stdout",
     "output_type": "stream",
     "text": [
      "[[ 1  2  3  4  5]\n",
      " [ 6  7  8  9 10]\n",
      " [11 12 13 14 15]\n",
      " [-1 -1 -1 -1 -1]\n",
      " [-1 -1 -1 -1 -1]]\n"
     ]
    }
   ],
   "source": [
    "grid[grid>15] = -1\n",
    "print(grid)"
   ]
  },
  {
   "cell_type": "code",
   "execution_count": 53,
   "id": "09278e08-7c45-499a-b193-2a4a5d6ebdd9",
   "metadata": {},
   "outputs": [
    {
     "name": "stdout",
     "output_type": "stream",
     "text": [
      "[[ 1  2  3  4  5]\n",
      " [ 6  7  8  9 10]\n",
      " [11 12 13 14 15]\n",
      " [16 17 18 19 20]\n",
      " [21 22 23 24 25]]\n"
     ]
    }
   ],
   "source": [
    "grid = np.arange(1,26).reshape(5,5)\n",
    "print(grid)"
   ]
  },
  {
   "cell_type": "markdown",
   "id": "016baac4-302e-440c-b698-b1e68906d5a7",
   "metadata": {},
   "source": [
    "## Extract all values divisible by 3"
   ]
  },
  {
   "cell_type": "code",
   "execution_count": 55,
   "id": "8c73df5e-1a3b-446d-9df7-cb85e4307bcc",
   "metadata": {},
   "outputs": [
    {
     "name": "stdout",
     "output_type": "stream",
     "text": [
      "[ 3  6  9 12 15 18 21 24]\n"
     ]
    }
   ],
   "source": [
    "print(grid[grid % 3 ==0])"
   ]
  },
  {
   "cell_type": "markdown",
   "id": "fdaf9f5f-025a-4fca-9873-ce5862a6d5a3",
   "metadata": {},
   "source": [
    "## 1. Flatten the grid to a 1D array"
   ]
  },
  {
   "cell_type": "code",
   "execution_count": 57,
   "id": "55e9338a-db13-4262-a0af-d7cff27ec811",
   "metadata": {},
   "outputs": [
    {
     "name": "stdout",
     "output_type": "stream",
     "text": [
      "[ 1  2  3  4  5  6  7  8  9 10 11 12 13 14 15 16 17 18 19 20 21 22 23 24\n",
      " 25]\n",
      "(25,)\n"
     ]
    }
   ],
   "source": [
    "print(grid.flatten())\n",
    "print(grid.flatten().shape)"
   ]
  },
  {
   "cell_type": "markdown",
   "id": "2663b7ca-fa10-4df8-9612-9f302377248e",
   "metadata": {},
   "source": [
    "## 2. Reshape into a 1-row matrix (1×25)"
   ]
  },
  {
   "cell_type": "code",
   "execution_count": 59,
   "id": "81e45cd3-c325-46a9-9c2e-adee5f24ab3a",
   "metadata": {},
   "outputs": [
    {
     "name": "stdout",
     "output_type": "stream",
     "text": [
      "[[ 1  2  3  4  5  6  7  8  9 10 11 12 13 14 15 16 17 18 19 20 21 22 23 24\n",
      "  25]]\n",
      "(1, 25)\n"
     ]
    }
   ],
   "source": [
    "print(grid.reshape(1,25))\n",
    "print(grid.reshape(1,25).shape)"
   ]
  },
  {
   "cell_type": "markdown",
   "id": "186d36f7-26bb-423c-b4f5-232de1124e6b",
   "metadata": {},
   "source": [
    "## 3. Reshape into a column matrix (25×1)"
   ]
  },
  {
   "cell_type": "code",
   "execution_count": 60,
   "id": "f112f70b-3ad4-4291-b65d-91bd3b6adb4b",
   "metadata": {},
   "outputs": [
    {
     "name": "stdout",
     "output_type": "stream",
     "text": [
      "[[ 1]\n",
      " [ 2]\n",
      " [ 3]\n",
      " [ 4]\n",
      " [ 5]\n",
      " [ 6]\n",
      " [ 7]\n",
      " [ 8]\n",
      " [ 9]\n",
      " [10]\n",
      " [11]\n",
      " [12]\n",
      " [13]\n",
      " [14]\n",
      " [15]\n",
      " [16]\n",
      " [17]\n",
      " [18]\n",
      " [19]\n",
      " [20]\n",
      " [21]\n",
      " [22]\n",
      " [23]\n",
      " [24]\n",
      " [25]]\n",
      "(25, 1)\n"
     ]
    }
   ],
   "source": [
    "print(grid.reshape(25,1))\n",
    "print(grid.reshape(25,1).shape)"
   ]
  },
  {
   "cell_type": "markdown",
   "id": "143e7b23-3a27-4b69-ad87-215f252f01b4",
   "metadata": {},
   "source": [
    "## 4. Reshape into a 3×8 matrix"
   ]
  },
  {
   "cell_type": "code",
   "execution_count": 71,
   "id": "d104965f-0c99-48f3-94b9-2958af29cc80",
   "metadata": {},
   "outputs": [
    {
     "name": "stdout",
     "output_type": "stream",
     "text": [
      "[[ 1  2  3  4  5  6  7  8]\n",
      " [ 9 10 11 12 13 14 15 16]\n",
      " [17 18 19 20 21 22 23 24]]\n"
     ]
    }
   ],
   "source": [
    "flat = grid.flatten()\n",
    "padded = np.pad(flat , (0,1) , mode = 'constant' , constant_values = 0)\n",
    "padded_24 = padded[:24]\n",
    "reshaped = padded_24.reshape(3,8)\n",
    "print(reshaped)"
   ]
  },
  {
   "cell_type": "code",
   "execution_count": null,
   "id": "0afb7e3c-face-49a6-afd9-bddfcca15294",
   "metadata": {},
   "outputs": [],
   "source": []
  }
 ],
 "metadata": {
  "kernelspec": {
   "display_name": "Python 3 (ipykernel)",
   "language": "python",
   "name": "python3"
  },
  "language_info": {
   "codemirror_mode": {
    "name": "ipython",
    "version": 3
   },
   "file_extension": ".py",
   "mimetype": "text/x-python",
   "name": "python",
   "nbconvert_exporter": "python",
   "pygments_lexer": "ipython3",
   "version": "3.13.0"
  }
 },
 "nbformat": 4,
 "nbformat_minor": 5
}
