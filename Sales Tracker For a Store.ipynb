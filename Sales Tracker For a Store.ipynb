{
 "cells": [
  {
   "cell_type": "markdown",
   "id": "aac1bd6b-10f0-4a7a-bcd8-2498d8c2d8bb",
   "metadata": {},
   "source": [
    "# ✅ Step 1: Create the Sales Data\n",
    "\n",
    "## We’ll create a 6 × 4 matrix — 6 products, 4 weeks."
   ]
  },
  {
   "cell_type": "code",
   "execution_count": 3,
   "id": "ec6da54e-fd03-44c0-8994-a186eea0524a",
   "metadata": {},
   "outputs": [
    {
     "name": "stdout",
     "output_type": "stream",
     "text": [
      "Sales Data (Products x Weeks):\n",
      " [[137 335 496 172]\n",
      " [355 493 303 233]\n",
      " [435 244 229 171]\n",
      " [337 490 381 278]\n",
      " [376 354 457 495]\n",
      " [352 256 498 150]]\n",
      "Shape:  (6, 4)\n",
      "Total Number of Sales records:  24\n"
     ]
    }
   ],
   "source": [
    "import numpy as np\n",
    "\n",
    "#making results reproducible\n",
    "np.random.seed(1) #this makes the random data to be fixed \n",
    "\n",
    "sales = np.random.randint(100, 500, size = (6,4))\n",
    "print('Sales Data (Products x Weeks):\\n', sales)\n",
    "print('Shape: ',sales.shape)\n",
    "print('Total Number of Sales records: ', sales.size)"
   ]
  },
  {
   "cell_type": "markdown",
   "id": "c4e2a6b3-72c9-4c28-b21b-d6359375f2be",
   "metadata": {},
   "source": [
    "# ✅ Step 2: Calculate Weekly and Product-wise Totals & Averages\n",
    "## 🎯 Goals:\n",
    "## 1.Find how each product performed across 4 weeks (row-wise)\n",
    "## 2.Find how each week performed across products (column-wise)\n",
    "## 3.Calculate both totals and averages"
   ]
  },
  {
   "cell_type": "code",
   "execution_count": 4,
   "id": "154f46bc-4770-4c67-802f-0451dfe7d69f",
   "metadata": {},
   "outputs": [
    {
     "name": "stdout",
     "output_type": "stream",
     "text": [
      "The Total performance by each product is :  [1140 1384 1079 1486 1682 1256]\n",
      "The Average performance by each product is :  [285.   346.   269.75 371.5  420.5  314.  ]\n",
      "The Total performance per week is :  [1992 2172 2364 1499]\n",
      "The Average performance per week is :  [332.   362.   394.   249.83]\n"
     ]
    }
   ],
   "source": [
    "#1.\n",
    "product_totals = np.sum(sales, axis = 1)\n",
    "product_mean = np.mean(sales, axis = 1)\n",
    "#2.\n",
    "week_total = np.sum(sales, axis = 0)\n",
    "week_mean = np.mean(sales, axis = 0)\n",
    "week_mean_rounded = np.round(week_mean, 2)\n",
    "print('The Total performance by each product is : ', product_totals)\n",
    "print('The Average performance by each product is : ', product_mean)\n",
    "print('The Total performance per week is : ', week_total)\n",
    "print('The Average performance per week is : ', week_mean_rounded)"
   ]
  },
  {
   "cell_type": "markdown",
   "id": "55434b47-ae9b-4f73-b347-031f68e4265e",
   "metadata": {},
   "source": [
    "# ✅ Step 3: Find Best and Worst Performing Product & Week\n",
    "## 🎯 Goals:\n",
    "## 1.Identify the product with the highest and lowest total sales\n",
    "## 2.Identify the week with the highest and lowest total sales\n",
    "## 3.This is where we use:\n",
    "## np.argmax() → gives index of max value\n",
    "## np.argmin() → gives index of min value"
   ]
  },
  {
   "cell_type": "code",
   "execution_count": 16,
   "id": "3ca6b80a-95ae-4730-b3bd-5d39fbc49906",
   "metadata": {},
   "outputs": [
    {
     "name": "stdout",
     "output_type": "stream",
     "text": [
      "################Data###############\n",
      "Product Data:  [1140 1384 1079 1486 1682 1256]\n",
      "Week Data:  [1992 2172 2364 1499]\n",
      "**********Products Performance**********\n",
      "Best Product in performance:  5\n",
      "Worst Product in performance:  3\n",
      "***********Weeks Performance************\n",
      "Best Performing week:  3\n",
      "Worst Performing week:  4\n"
     ]
    }
   ],
   "source": [
    "#1.\n",
    "product_total = np.sum(sales, axis = 1)\n",
    "best_product_index = np.argmax(product_total)\n",
    "worst_product_index = np.argmin(product_total)\n",
    "#2.\n",
    "week_total = np.sum(sales, axis = 0)\n",
    "best_week_index = np.argmax(week_total)\n",
    "worst_week_index = np.argmin(week_total)\n",
    "print('Data'.center(35,'#'))\n",
    "print('Product Data: ',product_total)\n",
    "print('Week Data: ',week_total)\n",
    "print('Products Performance'.center(40,'*'))\n",
    "print('Best Product in performance: ',best_product_index + 1)\n",
    "print('Worst Product in performance: ',worst_product_index  + 1)\n",
    "print('Weeks Performance'.center(40,'*'))\n",
    "print('Best Performing week: ',best_week_index + 1)\n",
    "print('Worst Performing week: ',worst_week_index + 1)\n"
   ]
  },
  {
   "cell_type": "markdown",
   "id": "b0dee12c-bf97-4d80-8f36-0e7e58ea5af3",
   "metadata": {},
   "source": [
    "# ✅ Step 4: Add Extra Information Using Stacking (hstack, vstack)\n",
    "## This is super useful when:\n",
    "## You want to add a bonus column to each product’s data (like festival sales)\n",
    "## Or add a total row showing combined weekly sales across all products"
   ]
  },
  {
   "cell_type": "markdown",
   "id": "dd28c18b-b6b6-4512-8e03-3c48efc6b081",
   "metadata": {},
   "source": [
    "# 🔹 Scenario 1: Add a Bonus Column to Each Product\n",
    "## Let’s say there was a Diwali bonus sale added to each product. We'll simulate that with a new column of 6 values (one per product)."
   ]
  },
  {
   "cell_type": "code",
   "execution_count": 23,
   "id": "3df64864-8aaf-4d56-9cfa-990f18ce5269",
   "metadata": {},
   "outputs": [
    {
     "name": "stdout",
     "output_type": "stream",
     "text": [
      "Diwali Sales Data:\n",
      " [[ 87]\n",
      " [ 62]\n",
      " [122]\n",
      " [ 59]\n",
      " [125]\n",
      " [ 55]]\n",
      "Sales + Diwali Sales: \n",
      " [[137 335 496 172  87]\n",
      " [355 493 303 233  62]\n",
      " [435 244 229 171 122]\n",
      " [337 490 381 278  59]\n",
      " [376 354 457 495 125]\n",
      " [352 256 498 150  55]]\n"
     ]
    }
   ],
   "source": [
    "#first create an extra column as a diwali bonus to add it to the main array\n",
    "np.random.seed(1)\n",
    "diwali_sales = np.random.randint(50, 151, size = (6,1))\n",
    "print(\"Diwali Sales Data:\\n\",diwali_sales)\n",
    "updated_sales = np.hstack((sales, diwali_sales))\n",
    "print('Sales + Diwali Sales: \\n',updated_sales)"
   ]
  },
  {
   "cell_type": "markdown",
   "id": "bdd04b84-809a-4173-88f4-38050d9de66c",
   "metadata": {},
   "source": [
    "# 🔹 Scenario 2: Add a Total Row at the Bottom\n",
    "## Want to see total sales per week across all products?"
   ]
  },
  {
   "cell_type": "code",
   "execution_count": 26,
   "id": "93d2ecf5-b8fc-4d3e-94a4-d10316edbe74",
   "metadata": {},
   "outputs": [
    {
     "name": "stdout",
     "output_type": "stream",
     "text": [
      "Sales with total week row & product row:\n",
      " [[ 137  335  496  172 1140]\n",
      " [ 355  493  303  233 1384]\n",
      " [ 435  244  229  171 1079]\n",
      " [ 337  490  381  278 1486]\n",
      " [ 376  354  457  495 1682]\n",
      " [ 352  256  498  150 1256]\n",
      " [1992 2172 2364 1499 8027]]\n"
     ]
    }
   ],
   "source": [
    "week_totals = np.sum(sales, axis = 0).reshape(1, -1)\n",
    "sales_with_totals = np.vstack((sales, week_totals))\n",
    "product_totals = np.sum(sales_with_totals, axis =1).reshape(-1 , 1)\n",
    "updated_totals = np.hstack((sales_with_totals, product_totals))\n",
    "print('Sales with total week row & product row:\\n', updated_totals)"
   ]
  },
  {
   "cell_type": "markdown",
   "id": "832ce745-49de-4427-a725-c10aaa914eed",
   "metadata": {},
   "source": [
    "# ✅ Step 5: Reshape and Flatten for ML-Style Input\n",
    "## 🎯 Goal:\n",
    "## Prepare your data in different shapes suitable for:\n",
    "## Feeding into machine learning models (like scikit-learn)\n",
    "## Analysis pipelines or exporting\n",
    "## Flattening 2D data into 1D features\n",
    "\n"
   ]
  },
  {
   "cell_type": "markdown",
   "id": "792d9fe4-fe00-4628-88cb-ceda7694bbc0",
   "metadata": {},
   "source": [
    "🔹 1. Flatten Entire Dataset into a 1D Vector"
   ]
  },
  {
   "cell_type": "code",
   "execution_count": 27,
   "id": "ff46add0-3398-4927-b119-8e6fa80a1989",
   "metadata": {},
   "outputs": [
    {
     "name": "stdout",
     "output_type": "stream",
     "text": [
      "Flattened array:\n",
      " [137 335 496 172 355 493 303 233 435 244 229 171 337 490 381 278 376 354\n",
      " 457 495 352 256 498 150]\n",
      "Shape: (24,)\n"
     ]
    }
   ],
   "source": [
    "flat = sales.flatten()\n",
    "print(\"Flattened array:\\n\", flat)\n",
    "print(\"Shape:\", flat.shape)  # (24,)"
   ]
  },
  {
   "cell_type": "markdown",
   "id": "a018e0cb-1796-4a70-9fcf-9b819966eb6e",
   "metadata": {},
   "source": [
    "🔹 2. Convert to a Single Row (1 × 24)"
   ]
  },
  {
   "cell_type": "code",
   "execution_count": 28,
   "id": "57f00392-a5e7-4794-9777-1a54f7335326",
   "metadata": {},
   "outputs": [
    {
     "name": "stdout",
     "output_type": "stream",
     "text": [
      "Row view:\n",
      " [[137 335 496 172 355 493 303 233 435 244 229 171 337 490 381 278 376 354\n",
      "  457 495 352 256 498 150]]\n",
      "Shape: (1, 24)\n"
     ]
    }
   ],
   "source": [
    "row_input = sales.reshape(1, -1)\n",
    "print(\"Row view:\\n\", row_input)\n",
    "print(\"Shape:\", row_input.shape)  # (1, 24)"
   ]
  },
  {
   "cell_type": "markdown",
   "id": "9262922a-5fe2-46bb-b49e-3981340631e9",
   "metadata": {},
   "source": [
    "🔹 3. Convert to a Single Column (24 × 1)"
   ]
  },
  {
   "cell_type": "code",
   "execution_count": 29,
   "id": "4c0a6120-a033-4bb0-9380-4bdd591962b4",
   "metadata": {},
   "outputs": [
    {
     "name": "stdout",
     "output_type": "stream",
     "text": [
      "Column view:\n",
      " [[137]\n",
      " [335]\n",
      " [496]\n",
      " [172]\n",
      " [355]\n",
      " [493]\n",
      " [303]\n",
      " [233]\n",
      " [435]\n",
      " [244]\n",
      " [229]\n",
      " [171]\n",
      " [337]\n",
      " [490]\n",
      " [381]\n",
      " [278]\n",
      " [376]\n",
      " [354]\n",
      " [457]\n",
      " [495]\n",
      " [352]\n",
      " [256]\n",
      " [498]\n",
      " [150]]\n",
      "Shape: (24, 1)\n"
     ]
    }
   ],
   "source": [
    "col_input = sales.reshape(-1, 1)\n",
    "print(\"Column view:\\n\", col_input)\n",
    "print(\"Shape:\", col_input.shape)  # (24, 1)"
   ]
  },
  {
   "cell_type": "code",
   "execution_count": null,
   "id": "8c43678f-963d-4ba3-ba3e-0c656d152c34",
   "metadata": {},
   "outputs": [],
   "source": []
  }
 ],
 "metadata": {
  "kernelspec": {
   "display_name": "Python 3 (ipykernel)",
   "language": "python",
   "name": "python3"
  },
  "language_info": {
   "codemirror_mode": {
    "name": "ipython",
    "version": 3
   },
   "file_extension": ".py",
   "mimetype": "text/x-python",
   "name": "python",
   "nbconvert_exporter": "python",
   "pygments_lexer": "ipython3",
   "version": "3.13.0"
  }
 },
 "nbformat": 4,
 "nbformat_minor": 5
}
